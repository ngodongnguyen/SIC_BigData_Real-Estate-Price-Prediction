{
 "cells": [
  {
   "cell_type": "code",
   "execution_count": 1,
   "metadata": {},
   "outputs": [],
   "source": [
    "import sys, os\n",
    "sys.path.append(os.path.abspath('../..'))"
   ]
  },
  {
   "cell_type": "code",
   "execution_count": 18,
   "metadata": {},
   "outputs": [],
   "source": [
    "import pandas as pd\n",
    "import numpy as np\n",
    "import json\n",
    "from modules.preprocessing.convert_modules import address_convert as ac"
   ]
  },
  {
   "cell_type": "code",
   "execution_count": 19,
   "metadata": {},
   "outputs": [],
   "source": [
    "with open(\"../../data/batdongsan/raw/Dat_raw-dataset.json\", \"r\", encoding=\"utf-8\") as file:\n",
    "    data = json.load(file)\n",
    "    df_raw = pd.json_normalize(data)\n",
    "    df_raw.drop(columns='Characteristics',inplace=True)\n",
    "    df_raw.drop_duplicates(inplace=True, ignore_index=True)"
   ]
  },
  {
   "cell_type": "code",
   "execution_count": 20,
   "metadata": {},
   "outputs": [
    {
     "name": "stdout",
     "output_type": "stream",
     "text": [
      "<class 'pandas.core.frame.DataFrame'>\n",
      "RangeIndex: 20396 entries, 0 to 20395\n",
      "Data columns (total 14 columns):\n",
      " #   Column             Non-Null Count  Dtype  \n",
      "---  ------             --------------  -----  \n",
      " 0   Street             20393 non-null  object \n",
      " 1   Ward               20396 non-null  object \n",
      " 2   Area               20396 non-null  object \n",
      " 3   Region             20396 non-null  object \n",
      " 4   Latitude           20393 non-null  float64\n",
      " 5   Longitude          20393 non-null  float64\n",
      " 6   Price              20396 non-null  int64  \n",
      " 7   PriceMillionPerM2  20396 non-null  float64\n",
      " 8   Size               20396 non-null  float64\n",
      " 9   LandType           20396 non-null  int64  \n",
      " 10  Width              16939 non-null  float64\n",
      " 11  Length             15743 non-null  float64\n",
      " 12  direction          7034 non-null   float64\n",
      " 13  Legalty            20233 non-null  float64\n",
      "dtypes: float64(8), int64(2), object(4)\n",
      "memory usage: 2.2+ MB\n"
     ]
    }
   ],
   "source": [
    "df_raw.info()"
   ]
  },
  {
   "cell_type": "markdown",
   "metadata": {},
   "source": [
    "## Drop những cột không cần thiết"
   ]
  },
  {
   "cell_type": "code",
   "execution_count": 21,
   "metadata": {},
   "outputs": [],
   "source": [
    "df_raw = df_raw.drop(columns=['direction'])\n",
    "df_raw = df_raw.dropna(subset=['Latitude','Price','Legalty'])"
   ]
  },
  {
   "cell_type": "code",
   "execution_count": 22,
   "metadata": {},
   "outputs": [
    {
     "name": "stdout",
     "output_type": "stream",
     "text": [
      "<class 'pandas.core.frame.DataFrame'>\n",
      "Index: 20231 entries, 0 to 20395\n",
      "Data columns (total 13 columns):\n",
      " #   Column             Non-Null Count  Dtype  \n",
      "---  ------             --------------  -----  \n",
      " 0   Street             20230 non-null  object \n",
      " 1   Ward               20231 non-null  object \n",
      " 2   Area               20231 non-null  object \n",
      " 3   Region             20231 non-null  object \n",
      " 4   Latitude           20231 non-null  float64\n",
      " 5   Longitude          20231 non-null  float64\n",
      " 6   Price              20231 non-null  int64  \n",
      " 7   PriceMillionPerM2  20231 non-null  float64\n",
      " 8   Size               20231 non-null  float64\n",
      " 9   LandType           20231 non-null  int64  \n",
      " 10  Width              16844 non-null  float64\n",
      " 11  Length             15653 non-null  float64\n",
      " 12  Legalty            20231 non-null  float64\n",
      "dtypes: float64(7), int64(2), object(4)\n",
      "memory usage: 2.2+ MB\n"
     ]
    }
   ],
   "source": [
    "df_raw.info()"
   ]
  },
  {
   "cell_type": "markdown",
   "metadata": {},
   "source": [
    "## Số hóa dữ liệu"
   ]
  },
  {
   "cell_type": "code",
   "execution_count": 26,
   "metadata": {},
   "outputs": [],
   "source": [
    "df_raw.rename(columns={'Region':'City','Area':'District','Ward':'DiaChi'},inplace=True)"
   ]
  },
  {
   "cell_type": "code",
   "execution_count": 27,
   "metadata": {},
   "outputs": [],
   "source": [
    "ac.address_convert_all(df_raw)"
   ]
  },
  {
   "cell_type": "code",
   "execution_count": 28,
   "metadata": {},
   "outputs": [
    {
     "name": "stdout",
     "output_type": "stream",
     "text": [
      "<class 'pandas.core.frame.DataFrame'>\n",
      "Index: 20231 entries, 0 to 20395\n",
      "Data columns (total 14 columns):\n",
      " #   Column             Non-Null Count  Dtype  \n",
      "---  ------             --------------  -----  \n",
      " 0   Street             20230 non-null  object \n",
      " 1   DiaChi             20231 non-null  object \n",
      " 2   District           20188 non-null  Int32  \n",
      " 3   City               20231 non-null  Int32  \n",
      " 4   Latitude           20231 non-null  float64\n",
      " 5   Longitude          20231 non-null  float64\n",
      " 6   Price              20231 non-null  int64  \n",
      " 7   PriceMillionPerM2  20231 non-null  float64\n",
      " 8   Size               20231 non-null  float64\n",
      " 9   LandType           20231 non-null  int64  \n",
      " 10  Width              16844 non-null  float64\n",
      " 11  Length             15653 non-null  float64\n",
      " 12  Legalty            20231 non-null  float64\n",
      " 13  Ward               20106 non-null  Int32  \n",
      "dtypes: Int32(3), float64(7), int64(2), object(2)\n",
      "memory usage: 2.1+ MB\n"
     ]
    }
   ],
   "source": [
    "df_raw.info()"
   ]
  },
  {
   "cell_type": "code",
   "execution_count": 37,
   "metadata": {},
   "outputs": [],
   "source": [
    "df_raw.dropna(subset=['City','District','Ward'],inplace=True)\n",
    "df_raw.drop(columns=['Street','DiaChi'],inplace=True)"
   ]
  },
  {
   "cell_type": "code",
   "execution_count": 38,
   "metadata": {},
   "outputs": [
    {
     "name": "stdout",
     "output_type": "stream",
     "text": [
      "<class 'pandas.core.frame.DataFrame'>\n",
      "Index: 20106 entries, 0 to 20395\n",
      "Data columns (total 12 columns):\n",
      " #   Column             Non-Null Count  Dtype  \n",
      "---  ------             --------------  -----  \n",
      " 0   District           20106 non-null  Int32  \n",
      " 1   City               20106 non-null  Int32  \n",
      " 2   Latitude           20106 non-null  float64\n",
      " 3   Longitude          20106 non-null  float64\n",
      " 4   Price              20106 non-null  int64  \n",
      " 5   PriceMillionPerM2  20106 non-null  float64\n",
      " 6   Size               20106 non-null  float64\n",
      " 7   LandType           20106 non-null  int64  \n",
      " 8   Width              16744 non-null  float64\n",
      " 9   Length             15558 non-null  float64\n",
      " 10  Legalty            20106 non-null  float64\n",
      " 11  Ward               20106 non-null  Int32  \n",
      "dtypes: Int32(3), float64(7), int64(2)\n",
      "memory usage: 1.8 MB\n"
     ]
    }
   ],
   "source": [
    "df_raw.info()"
   ]
  },
  {
   "cell_type": "markdown",
   "metadata": {},
   "source": [
    "## Lưu ra file"
   ]
  },
  {
   "cell_type": "code",
   "execution_count": 39,
   "metadata": {},
   "outputs": [
    {
     "name": "stderr",
     "output_type": "stream",
     "text": [
      "C:\\Users\\huykh\\AppData\\Local\\Temp\\ipykernel_21064\\3792289333.py:1: FutureWarning: Starting with pandas version 3.0 all arguments of to_csv except for the argument 'path_or_buf' will be keyword-only.\n",
      "  df_raw.to_csv('../../data/batdongsan/numerized/Dat_numerized-dataset.csv',',',index=False)\n"
     ]
    }
   ],
   "source": [
    "df_raw.to_csv('../../data/batdongsan/numerized/Dat_numerized-dataset.csv',',',index=False)"
   ]
  }
 ],
 "metadata": {
  "kernelspec": {
   "display_name": "sic_bigdata_env",
   "language": "python",
   "name": "python3"
  },
  "language_info": {
   "codemirror_mode": {
    "name": "ipython",
    "version": 3
   },
   "file_extension": ".py",
   "mimetype": "text/x-python",
   "name": "python",
   "nbconvert_exporter": "python",
   "pygments_lexer": "ipython3",
   "version": "3.11.9"
  }
 },
 "nbformat": 4,
 "nbformat_minor": 2
}
